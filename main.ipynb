import numpy as np
import matplotlib.pyplot as plt

x=[1, 2, 3, 4, 5, 6, 7, 8, 9, 10, 11, 12, 13, 14, 15, 16, 17, 18, 19, 20, 21,22,
   23, 24, 25, 26, 27, 28, 29, 30, 31, 32, 33, 34, 35, 36, 37, 38, 39, 40, 41,42,
   43, 44, 45, 46, 47, 48, 49, 50, 51, 52, 53, 54, 55, 56, 57, 58, 59, 60, 61,62,
   63, 64, 65, 66, 67, 68, 69, 70, 71, 72, 73, 74, 75, 76, 77, 78, 79, 80, 81,82,
   83, 84, 85, 86, 87, 88, 89, 90, 91, 92, 93, 94, 95, 96, 97, 98, 99, 100, 101,102,
   103, 104, 105, 106, 107, 108, 109, 110, 111, 112, 113, 114, 115, 116, 117, 118,119,
   120, 121, 122, 123, 124, 125, 126, 127, 128, 129, 130, 131, 132, 133, 134, 135,136,
   137, 138, 139, 140, 141, 142, 143, 144]
y = [
    1863, 1614, 2570, 1685, 2101, 1811, 2457, 2171, 2134, 2502, 2358, 2399,
    2048, 2523, 2086, 2391, 2150, 2340, 3129, 2277, 2964, 2997, 2747, 2862,
    3405, 2677, 2749, 2755, 2963, 3161, 3623, 2768, 3141, 3439, 3601, 3531,
    3477, 3376, 4027, 3175, 3274, 3334, 3964, 3649, 3502, 3688, 3657, 4422,
    4197, 4441, 4736, 4521, 4485, 4644, 5036, 4876, 4789, 4544, 4975, 5211,
    4880, 4933, 5079, 5339, 5232, 5520, 5714, 5260, 6110, 5334, 5988, 6235,
    6365, 6266, 6345, 6118, 6497, 6278, 6638, 6590, 6271, 7246, 6584, 6594,
    7092, 7326, 7409, 7976, 7959, 8012, 8195, 8008, 8313, 7791, 8368, 8933,
    8756, 8613, 8705, 9098, 8769, 9544, 9050, 9186, 10012, 9685, 9966, 10048,
    10244, 10740, 10318, 10393, 10986, 10635, 10731, 11749, 11849, 12123,
    12274, 11666, 11960, 12629, 12915, 13051, 13387, 13309, 13732, 13162,
    13644, 13808, 14101, 13992, 15191, 15018, 14917, 15046, 15556, 15893,
    16388, 16782, 16716, 17033, 16896, 17689
]

x=np.array(x)
y=np.array(y)
#to find the coefficient of the graph
degree = 3
coeff = np.polyfit(x, y, degree)
coeff = np.round(coeff, decimals = 3)
polynomial = np.polyval(coeff, x)


plt.figure(figsize=(12,6))
plt.plot(x, y, label='Monthly Production' )
plt.plot(x,polynomial , color = 'red')
plt.xlabel('Month')
plt.ylabel('Total Production')
plt.title('Monthly Production of Bags (Jan 2018 to Dec 2023)')
plt.legend()
plt.show()

#####
#the coefficients of the graph
x0 = coeff[0]
x1 = coeff[1]
x2 = coeff[2]
x3 = coeff[3]
print(f"2. {x0} || {x1} || {x2} || {x3}")

#formula
def f(x):
  return x0*(x**3) + x1*(x**2) + x2*x + x3


ExResult = f(11)

error = (ExResult - 2358) / 2358
error = float(error * 100)
print(f"Example : Result of f(11) from the Formula is {ExResult},and the result is 2358(M11)(Percentage of error is {round(error, 4)}%)")
if(error < 5.000):
  print("The graph is already 'accurate' ")
else:
  print("The graph is not 'accurate' ")

b = 0;
def f(x):
  return x0*(x**3) + x1*(x**2) + x2*x + x3 - 25000
def g(x):
  return 3*x0*(x**2) + 2*x1*x + x2


def newton_raphson(x0, tolerance=0.001):
    x1 = x0 - f(x0) / g(x0)
    if(np.abs(f(x1)) < tolerance):
        global b
        b = x1
        return

    print(x1)
    newton_raphson(x1)


newton_raphson(50)
print(b)
print(f"EGIER need to build a new warehouse in month ({round(b-13)}) , means that in month ({round(b)}) the warehouse will reach the max. limit that the warehouse be able to store. ")
